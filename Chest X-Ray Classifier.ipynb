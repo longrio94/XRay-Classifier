{
 "cells": [
  {
   "cell_type": "markdown",
   "metadata": {},
   "source": [
    "Reference:\n",
    "\n",
    "https://machinelearningmastery.com/how-to-develop-a-convolutional-neural-network-to-classify-photos-of-dogs-and-cats/\n",
    "\n",
    "https://www.kaggle.com/paultimothymooney/chest-xray-pneumonia"
   ]
  },
  {
   "cell_type": "markdown",
   "metadata": {},
   "source": [
    "### Import Library"
   ]
  },
  {
   "cell_type": "code",
   "execution_count": 1,
   "metadata": {},
   "outputs": [
    {
     "name": "stderr",
     "output_type": "stream",
     "text": [
      "Using TensorFlow backend.\n"
     ]
    }
   ],
   "source": [
    "import os\n",
    "\n",
    "import pandas as pd\n",
    "\n",
    "from keras.preprocessing.image import load_img\n",
    "from keras.preprocessing.image import img_to_array\n",
    "from keras.preprocessing.image import ImageDataGenerator\n",
    "\n",
    "import numpy as np\n",
    "import matplotlib.pyplot as plt\n",
    "from matplotlib import pyplot\n",
    "\n",
    "from keras.models import Sequential\n",
    "from keras.layers import Dense, Conv2D , MaxPool2D , Flatten , Dropout, MaxPooling2D, BatchNormalization\n",
    "from keras.optimizers import SGD\n",
    "from keras.utils  import to_categorical\n",
    "from sklearn.metrics import confusion_matrix,f1_score , accuracy_score\n",
    "from keras.callbacks import EarlyStopping, ModelCheckpoint"
   ]
  },
  {
   "cell_type": "code",
   "execution_count": 2,
   "metadata": {},
   "outputs": [],
   "source": [
    "# gpu_devices = tf.config.experimental.list_physical_devices('GPU')\n",
    "# for device in gpu_devices:\n",
    "#     tf.config.experimental.set_memory_growth(device, True)"
   ]
  },
  {
   "cell_type": "code",
   "execution_count": 2,
   "metadata": {},
   "outputs": [],
   "source": [
    "import tensorflow as tf\n",
    "gpus = tf.config.experimental.list_physical_devices('GPU')\n",
    "if gpus:\n",
    "  try:\n",
    "    for gpu in gpus:\n",
    "      tf.config.experimental.set_memory_growth(gpu, True)\n",
    "  except RuntimeError as e:\n",
    "    print(e)"
   ]
  },
  {
   "cell_type": "markdown",
   "metadata": {},
   "source": [
    "### Load Data"
   ]
  },
  {
   "cell_type": "code",
   "execution_count": 3,
   "metadata": {},
   "outputs": [],
   "source": [
    "labels = ['PNEUMONIA', 'NORMAL']"
   ]
  },
  {
   "cell_type": "code",
   "execution_count": 4,
   "metadata": {},
   "outputs": [],
   "source": [
    "def get_image(file_directory,img_size):\n",
    "    \n",
    "    x_data = []\n",
    "    y_data = []\n",
    "    \n",
    "    for label in labels: \n",
    "        path = os.path.join(file_directory, label)\n",
    "        \n",
    "        for img in os.listdir(path):\n",
    "            \n",
    "                image_data = load_img(os.path.join(path, img), grayscale=True, color_mode=\"rgb\", \n",
    "                                      target_size=(img_size, img_size)) \n",
    "                image_data = img_to_array(image_data) # Convert Images to Array Data\n",
    "                x_data.append(image_data) \n",
    "                y_data.append(label)\n",
    "                \n",
    "    return x_data, y_data"
   ]
  },
  {
   "cell_type": "code",
   "execution_count": 5,
   "metadata": {},
   "outputs": [],
   "source": [
    "train_path = \"D:/Github/chest-xray-pneumonia/chest-xray-pneumonia/chest_xray/train\""
   ]
  },
  {
   "cell_type": "code",
   "execution_count": 6,
   "metadata": {
    "scrolled": false
   },
   "outputs": [
    {
     "name": "stderr",
     "output_type": "stream",
     "text": [
      "C:\\Users\\ADMIN\\anaconda3\\envs\\AlexEnv\\lib\\site-packages\\keras_preprocessing\\image\\utils.py:104: UserWarning: grayscale is deprecated. Please use color_mode = \"grayscale\"\n",
      "  warnings.warn('grayscale is deprecated. Please use '\n"
     ]
    }
   ],
   "source": [
    "x_train, y_train = get_image(train_path, 224)"
   ]
  },
  {
   "cell_type": "code",
   "execution_count": 7,
   "metadata": {},
   "outputs": [],
   "source": [
    "x_train = np.asarray(x_train)\n",
    "y_train = np.asarray(y_train)"
   ]
  },
  {
   "cell_type": "code",
   "execution_count": 8,
   "metadata": {
    "scrolled": true
   },
   "outputs": [
    {
     "data": {
      "text/plain": [
       "(5216, 224, 224, 1)"
      ]
     },
     "execution_count": 8,
     "metadata": {},
     "output_type": "execute_result"
    }
   ],
   "source": [
    "x_train.shape"
   ]
  },
  {
   "cell_type": "code",
   "execution_count": 9,
   "metadata": {
    "scrolled": true
   },
   "outputs": [
    {
     "data": {
      "text/plain": [
       "(5216,)"
      ]
     },
     "execution_count": 9,
     "metadata": {},
     "output_type": "execute_result"
    }
   ],
   "source": [
    "y_train.shape"
   ]
  },
  {
   "cell_type": "code",
   "execution_count": 10,
   "metadata": {
    "scrolled": true
   },
   "outputs": [
    {
     "data": {
      "text/plain": [
       "array([[0., 1.],\n",
       "       [0., 1.],\n",
       "       [0., 1.],\n",
       "       ...,\n",
       "       [1., 0.],\n",
       "       [1., 0.],\n",
       "       [1., 0.]], dtype=float32)"
      ]
     },
     "execution_count": 10,
     "metadata": {},
     "output_type": "execute_result"
    }
   ],
   "source": [
    "y_train[y_train == 'NORMAL'] = 0\n",
    "y_train[y_train == 'PNEUMONIA'] = 1\n",
    "to_categorical(y_train)"
   ]
  },
  {
   "cell_type": "code",
   "execution_count": 11,
   "metadata": {},
   "outputs": [],
   "source": [
    "test_path = \"D:/Github/chest-xray-pneumonia/chest-xray-pneumonia/chest_xray/test\""
   ]
  },
  {
   "cell_type": "code",
   "execution_count": 12,
   "metadata": {},
   "outputs": [],
   "source": [
    "x_test, y_test = get_image(test_path, 224)"
   ]
  },
  {
   "cell_type": "code",
   "execution_count": 13,
   "metadata": {},
   "outputs": [],
   "source": [
    "x_test = np.asarray(x_test)\n",
    "y_test = np.asarray(y_test)"
   ]
  },
  {
   "cell_type": "code",
   "execution_count": 14,
   "metadata": {},
   "outputs": [
    {
     "data": {
      "text/plain": [
       "(624, 224, 224, 1)"
      ]
     },
     "execution_count": 14,
     "metadata": {},
     "output_type": "execute_result"
    }
   ],
   "source": [
    "x_test.shape"
   ]
  },
  {
   "cell_type": "code",
   "execution_count": 15,
   "metadata": {},
   "outputs": [
    {
     "data": {
      "text/plain": [
       "array([[0., 1.],\n",
       "       [0., 1.],\n",
       "       [0., 1.],\n",
       "       ...,\n",
       "       [1., 0.],\n",
       "       [1., 0.],\n",
       "       [1., 0.]], dtype=float32)"
      ]
     },
     "execution_count": 15,
     "metadata": {},
     "output_type": "execute_result"
    }
   ],
   "source": [
    "y_test[y_test == 'NORMAL'] = 0\n",
    "y_test[y_test == 'PNEUMONIA'] = 1\n",
    "to_categorical(y_test)"
   ]
  },
  {
   "cell_type": "markdown",
   "metadata": {},
   "source": [
    "### Baseline CNN Model"
   ]
  },
  {
   "cell_type": "code",
   "execution_count": 16,
   "metadata": {},
   "outputs": [],
   "source": [
    "datagen1 = ImageDataGenerator(\n",
    "                rescale=1.0/224.0)"
   ]
  },
  {
   "cell_type": "code",
   "execution_count": 17,
   "metadata": {},
   "outputs": [],
   "source": [
    "datagen1.fit(x_train)\n",
    "datagen1.fit(x_test)"
   ]
  },
  {
   "cell_type": "code",
   "execution_count": 30,
   "metadata": {},
   "outputs": [],
   "source": [
    "# define cnn model\n",
    "def define_model():\n",
    "        \n",
    "    model = Sequential()\n",
    "    model.add(Conv2D(32 , (3,3) , strides = 1 , padding = 'same' , activation = 'relu' , input_shape = (224,224,1)))\n",
    "    model.add(MaxPool2D((2,2) ,padding = 'same'))\n",
    "    model.add(Conv2D(48 , (3,3) , strides = 2 , padding = 'same' , activation = 'relu'))\n",
    "    model.add(MaxPool2D((2,2) ,padding = 'same'))\n",
    "    model.add(Dropout(0.1))\n",
    "    model.add(Conv2D(64 , (3,3) , strides = 1 , padding = 'same' , activation = 'relu'))\n",
    "    model.add(MaxPool2D((2,2) , padding = 'same'))\n",
    "    model.add(Conv2D(96 , (3,3) , strides = 2 , padding = 'same' , activation = 'relu'))\n",
    "    model.add(MaxPool2D((2,2) , padding = 'same'))\n",
    "    model.add(Dropout(0.2))\n",
    "    model.add(Conv2D(128 , (3,3) , strides = 1 , padding = 'same' , activation = 'relu'))\n",
    "    model.add(MaxPool2D((2,2) ,  padding = 'same'))\n",
    "    model.add(Conv2D(256 , (3,3) , strides = 1 , padding = 'same' , activation = 'relu'))\n",
    "    model.add(MaxPool2D((2,2) ,  padding = 'same'))\n",
    "    model.add(Dropout(0.2))\n",
    "    model.add(Flatten())\n",
    "    model.add(Dense(units = 128 , activation = 'relu'))\n",
    "    model.add(Dense(units = 1 , activation = 'sigmoid'))\n",
    "    model.compile(optimizer = 'adam' , loss = 'binary_crossentropy' , metrics = ['accuracy'])\n",
    "\n",
    "    return model"
   ]
  },
  {
   "cell_type": "code",
   "execution_count": 31,
   "metadata": {},
   "outputs": [],
   "source": [
    "# define model\n",
    "model1 = define_model()"
   ]
  },
  {
   "cell_type": "code",
   "execution_count": 32,
   "metadata": {},
   "outputs": [
    {
     "name": "stdout",
     "output_type": "stream",
     "text": [
      "Epoch 1/10\n",
      "163/163 [==============================] - 74s 453ms/step - loss: 0.4380 - accuracy: 0.7906 - val_loss: 1.4157 - val_accuracy: 0.7500\n",
      "Epoch 2/10\n",
      "163/163 [==============================] - 75s 461ms/step - loss: 0.2218 - accuracy: 0.9087 - val_loss: 2.5593 - val_accuracy: 0.7804\n",
      "Epoch 3/10\n",
      "163/163 [==============================] - 75s 460ms/step - loss: 0.1258 - accuracy: 0.9505 - val_loss: 0.9484 - val_accuracy: 0.7580\n",
      "Epoch 4/10\n",
      "163/163 [==============================] - 78s 476ms/step - loss: 0.0906 - accuracy: 0.9674 - val_loss: 0.4395 - val_accuracy: 0.7372\n",
      "Epoch 5/10\n",
      "163/163 [==============================] - 82s 501ms/step - loss: 0.0667 - accuracy: 0.9780 - val_loss: 1.8302 - val_accuracy: 0.7260\n",
      "Epoch 6/10\n",
      "163/163 [==============================] - 80s 489ms/step - loss: 0.0604 - accuracy: 0.9780 - val_loss: 2.6909 - val_accuracy: 0.7708\n",
      "Epoch 7/10\n",
      "163/163 [==============================] - 76s 469ms/step - loss: 0.0556 - accuracy: 0.9789 - val_loss: 2.2624 - val_accuracy: 0.7708\n",
      "Epoch 8/10\n",
      "163/163 [==============================] - 76s 469ms/step - loss: 0.0464 - accuracy: 0.9803 - val_loss: 3.0325 - val_accuracy: 0.7804\n",
      "Epoch 9/10\n",
      "163/163 [==============================] - 74s 455ms/step - loss: 0.0432 - accuracy: 0.9845 - val_loss: 0.2984 - val_accuracy: 0.7917\n",
      "Epoch 10/10\n",
      "163/163 [==============================] - 76s 467ms/step - loss: 0.0348 - accuracy: 0.9875 - val_loss: 4.0701 - val_accuracy: 0.7484\n"
     ]
    }
   ],
   "source": [
    "history1 = model1.fit(datagen1.flow(x_train,y_train, batch_size = 32) ,\n",
    "                      epochs = 10, steps_per_epoch = y_train.shape[0]/32,\n",
    "                      validation_data = datagen1.flow(x_test, y_test, batch_size = 32))"
   ]
  },
  {
   "cell_type": "code",
   "execution_count": 33,
   "metadata": {},
   "outputs": [
    {
     "data": {
      "image/png": "[encoded data removed]",
      "text/plain": [
       "<Figure size 432x288 with 1 Axes>"
      ]
     },
     "metadata": {
      "needs_background": "light"
     },
     "output_type": "display_data"
    }
   ],
   "source": [
    "# plot training history\n",
    "pyplot.plot(history1.history['loss'], label='train')\n",
    "pyplot.plot(history1.history['val_loss'], label='val')\n",
    "pyplot.legend()\n",
    "pyplot.show()"
   ]
  },
  {
   "cell_type": "code",
   "execution_count": 34,
   "metadata": {},
   "outputs": [],
   "source": [
    "y_predict = np.round(model1.predict(x_test)).astype(int)\n",
    "y_predict = y_predict.flatten()\n",
    "y_predict = pd.Series(y_predict)"
   ]
  },
  {
   "cell_type": "code",
   "execution_count": 35,
   "metadata": {},
   "outputs": [],
   "source": [
    "y_test_1 =  pd.Series(y_test)\n",
    "y_test_1 = (y_test_1).astype(int)"
   ]
  },
  {
   "cell_type": "code",
   "execution_count": 36,
   "metadata": {
    "scrolled": true
   },
   "outputs": [],
   "source": [
    "tn, fp, fn, tp =confusion_matrix(y_test_1, y_predict).ravel()"
   ]
  },
  {
   "cell_type": "code",
   "execution_count": 37,
   "metadata": {},
   "outputs": [
    {
     "data": {
      "text/plain": [
       "0.9185393258426966"
      ]
     },
     "execution_count": 37,
     "metadata": {},
     "output_type": "execute_result"
    }
   ],
   "source": [
    "precision  = tp / (tp + fp); precision"
   ]
  },
  {
   "cell_type": "code",
   "execution_count": 38,
   "metadata": {},
   "outputs": [
    {
     "data": {
      "text/plain": [
       "0.8384615384615385"
      ]
     },
     "execution_count": 38,
     "metadata": {},
     "output_type": "execute_result"
    }
   ],
   "source": [
    "recall = tp / (tp + fn); recall"
   ]
  },
  {
   "cell_type": "code",
   "execution_count": 39,
   "metadata": {
    "scrolled": true
   },
   "outputs": [
    {
     "data": {
      "text/plain": [
       "0.8525641025641025"
      ]
     },
     "execution_count": 39,
     "metadata": {},
     "output_type": "execute_result"
    }
   ],
   "source": [
    "accuracy_score(y_test_1, y_predict)"
   ]
  },
  {
   "cell_type": "markdown",
   "metadata": {},
   "source": [
    "The Dataset is imbalanced. Precision = 92%, Recall = 84%, Accuracy = 85%, F1-Score = 87%"
   ]
  },
  {
   "cell_type": "markdown",
   "metadata": {},
   "source": [
    "### Data Augmentation"
   ]
  },
  {
   "cell_type": "code",
   "execution_count": 128,
   "metadata": {},
   "outputs": [],
   "source": [
    "datagen2 = ImageDataGenerator(\n",
    "                rescale=1.0/244.0,\n",
    "                rotation_range = 6,  \n",
    "                zoom_range = 0.30,\n",
    "                width_shift_range=0.20,  \n",
    "                height_shift_range=0.25)"
   ]
  },
  {
   "cell_type": "code",
   "execution_count": 129,
   "metadata": {},
   "outputs": [],
   "source": [
    "datagen2.fit(x_train)"
   ]
  },
  {
   "cell_type": "code",
   "execution_count": 130,
   "metadata": {},
   "outputs": [],
   "source": [
    "# define cnn model\n",
    "def define_model2():\n",
    "        \n",
    "    model = Sequential()\n",
    "    model.add(Conv2D(32 , (3,3) , strides = 1 , padding = 'same' , activation = 'relu' , input_shape = (224,224,1)))\n",
    "    model.add(MaxPool2D((2,2) ,padding = 'same'))\n",
    "    model.add(Conv2D(48 , (3,3) , strides = 2 , padding = 'same' , activation = 'relu'))\n",
    "    model.add(MaxPool2D((2,2) ,padding = 'same'))\n",
    "    model.add(Dropout(0.1))\n",
    "    model.add(Conv2D(64 , (3,3) , strides = 1 , padding = 'same' , activation = 'relu'))\n",
    "    model.add(Conv2D(64, (3, 3), padding=\"valid\", activation='relu'))\n",
    "    model.add(MaxPool2D((2,2) , padding = 'same'))\n",
    "    model.add(Conv2D(96 , (3,3) , strides = 2 , padding = 'same' , activation = 'relu'))\n",
    "    model.add(MaxPool2D((2,2) , padding = 'same'))\n",
    "    model.add(Dropout(0.2))\n",
    "    model.add(Conv2D(128 , (3,3) , strides = 1 , padding = 'same' , activation = 'relu'))\n",
    "    model.add(Conv2D(128, (3, 3), padding=\"valid\", activation='relu'))\n",
    "    model.add(MaxPool2D((2,2) ,  padding = 'same'))\n",
    "    model.add(Conv2D(256 , (3,3) , strides = 1 , padding = 'same' , activation = 'relu'))\n",
    "    model.add(MaxPool2D((2,2) ,  padding = 'same'))\n",
    "    model.add(Dropout(0.2))\n",
    "    model.add(Flatten())\n",
    "    model.add(Dense(units = 128 , activation = 'relu'))\n",
    "    model.add(Dense(units = 1 , activation = 'sigmoid'))\n",
    "    model.compile(optimizer = 'adam' , loss = 'binary_crossentropy' , metrics = ['accuracy'])\n",
    "\n",
    "    return model"
   ]
  },
  {
   "cell_type": "code",
   "execution_count": 131,
   "metadata": {},
   "outputs": [],
   "source": [
    "# define model\n",
    "model2 = define_model2()"
   ]
  },
  {
   "cell_type": "code",
   "execution_count": 132,
   "metadata": {
    "scrolled": true
   },
   "outputs": [
    {
     "name": "stdout",
     "output_type": "stream",
     "text": [
      "Epoch 1/6\n",
      "163/163 [==============================] - 92s 564ms/step - loss: 0.5190 - accuracy: 0.7462 - val_loss: 0.7560 - val_accuracy: 0.6346\n",
      "Epoch 2/6\n",
      "163/163 [==============================] - 91s 559ms/step - loss: 0.3913 - accuracy: 0.8150 - val_loss: 0.4427 - val_accuracy: 0.7772\n",
      "Epoch 3/6\n",
      "163/163 [==============================] - 91s 557ms/step - loss: 0.3165 - accuracy: 0.8577 - val_loss: 0.3528 - val_accuracy: 0.8397\n",
      "Epoch 4/6\n",
      "163/163 [==============================] - 91s 555ms/step - loss: 0.2833 - accuracy: 0.8767 - val_loss: 0.3015 - val_accuracy: 0.8189\n",
      "Epoch 5/6\n",
      "163/163 [==============================] - 90s 553ms/step - loss: 0.2793 - accuracy: 0.8760 - val_loss: 0.8131 - val_accuracy: 0.8349\n",
      "Epoch 6/6\n",
      "163/163 [==============================] - 91s 556ms/step - loss: 0.2508 - accuracy: 0.8886 - val_loss: 0.3936 - val_accuracy: 0.7917\n"
     ]
    }
   ],
   "source": [
    "history2 = model2.fit(datagen2.flow(x_train,y_train, batch_size = 32) ,\n",
    "                      epochs = 6, steps_per_epoch = y_train.shape[0]/32,\n",
    "                      validation_data = datagen2.flow(x_test, y_test, batch_size = 32))"
   ]
  },
  {
   "cell_type": "code",
   "execution_count": 133,
   "metadata": {},
   "outputs": [
    {
     "data": {
      "image/png": "[encoded data removed]",
      "text/plain": [
       "<Figure size 432x288 with 1 Axes>"
      ]
     },
     "metadata": {
      "needs_background": "light"
     },
     "output_type": "display_data"
    }
   ],
   "source": [
    "# plot training history\n",
    "pyplot.plot(history2.history['accuracy'], label='train')\n",
    "pyplot.plot(history2.history['val_accuracy'], label='val')\n",
    "pyplot.legend()\n",
    "pyplot.show()"
   ]
  },
  {
   "cell_type": "code",
   "execution_count": 134,
   "metadata": {},
   "outputs": [],
   "source": [
    "y_predict2 = np.round(model2.predict(x_test)).astype(int)\n",
    "y_predict2 = y_predict2.flatten()\n",
    "y_predict2 = pd.Series(y_predict2)"
   ]
  },
  {
   "cell_type": "code",
   "execution_count": 135,
   "metadata": {},
   "outputs": [],
   "source": [
    "y_test_2 =  pd.Series(y_test)\n",
    "y_test_2 = (y_test_2).astype(int)"
   ]
  },
  {
   "cell_type": "code",
   "execution_count": 136,
   "metadata": {
    "scrolled": true
   },
   "outputs": [
    {
     "data": {
      "text/plain": [
       "0.8477564102564102"
      ]
     },
     "execution_count": 136,
     "metadata": {},
     "output_type": "execute_result"
    }
   ],
   "source": [
    "accuracy_score(y_test_2, y_predict2)"
   ]
  },
  {
   "cell_type": "code",
   "execution_count": 138,
   "metadata": {},
   "outputs": [],
   "source": [
    "tn, fp, fn, tp =confusion_matrix(y_test_2, y_predict2).ravel()"
   ]
  },
  {
   "cell_type": "code",
   "execution_count": 139,
   "metadata": {},
   "outputs": [
    {
     "data": {
      "text/plain": [
       "0.8791773778920309"
      ]
     },
     "execution_count": 139,
     "metadata": {},
     "output_type": "execute_result"
    }
   ],
   "source": [
    "precision  = tp / (tp + fp); precision"
   ]
  },
  {
   "cell_type": "code",
   "execution_count": 140,
   "metadata": {},
   "outputs": [
    {
     "data": {
      "text/plain": [
       "0.8769230769230769"
      ]
     },
     "execution_count": 140,
     "metadata": {},
     "output_type": "execute_result"
    }
   ],
   "source": [
    "recall = tp / (tp + fn); recall"
   ]
  },
  {
   "cell_type": "markdown",
   "metadata": {},
   "source": [
    "The Dataset is imbalanced. Precision = 88%, Recall = 88%, Accuracy = 85%, F1-Score = 88%"
   ]
  }
 ],
 "metadata": {
  "kernelspec": {
   "display_name": "Python 3",
   "language": "python",
   "name": "python3"
  },
  "language_info": {
   "codemirror_mode": {
    "name": "ipython",
    "version": 3
   },
   "file_extension": ".py",
   "mimetype": "text/x-python",
   "name": "python",
   "nbconvert_exporter": "python",
   "pygments_lexer": "ipython3",
   "version": "3.7.7"
  }
 },
 "nbformat": 4,
 "nbformat_minor": 4
}
